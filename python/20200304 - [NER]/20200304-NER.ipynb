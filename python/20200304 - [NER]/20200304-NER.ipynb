{
 "nbformat": 4,
 "nbformat_minor": 2,
 "metadata": {
  "language_info": {
   "name": "python",
   "codemirror_mode": {
    "name": "ipython",
    "version": 3
   },
   "version": "3.6.9-final"
  },
  "orig_nbformat": 2,
  "file_extension": ".py",
  "mimetype": "text/x-python",
  "name": "python",
  "npconvert_exporter": "python",
  "pygments_lexer": "ipython3",
  "version": 3,
  "kernelspec": {
   "name": "python36964bitbddbbfcb535140b084434bb7bc7ed6c4",
   "display_name": "Python 3.6.9 64-bit"
  }
 },
 "cells": [
  {
   "cell_type": "markdown",
   "metadata": {},
   "source": [
    "# NER\n",
    "What is NER? Named Entity Recognition is the task to recognize entitites. An entity can be everything from a Person, Location to a Time unit.\n",
    "\n",
    "## Datasets\n",
    "We have a few different datasets to work with.\n",
    "### Swedish\n",
    "- [Manually Annotated](https://github.com/klintan/swedish-ner-corpus/)\n",
    "- [Stockholm Internet Corpus (SIC)](https://www.ling.su.se/english/nlp/corpora-and-resources/sic)\n",
    "- [SUC 3.0](https://spraakbanken.gu.se/en/resources/suc3)\n",
    "\n",
    "### English\n",
    "- [Emergin](https://github.com/leondz/emerging_entities_17)\n",
    "- [A lot of different](https://github.com/juand-r/entity-recognition-datasets)"
   ]
  },
  {
   "cell_type": "code",
   "execution_count": 2,
   "metadata": {},
   "outputs": [
    {
     "ename": "SyntaxError",
     "evalue": "invalid syntax (<ipython-input-2-edf59f987d12>, line 1)",
     "output_type": "error",
     "traceback": [
      "\u001b[0;36m  File \u001b[0;32m\"<ipython-input-2-edf59f987d12>\"\u001b[0;36m, line \u001b[0;32m1\u001b[0m\n\u001b[0;31m    https://spacy.io/usage/v2-1\u001b[0m\n\u001b[0m           ^\u001b[0m\n\u001b[0;31mSyntaxError\u001b[0m\u001b[0;31m:\u001b[0m invalid syntax\n"
     ]
    }
   ],
   "source": [
    "https://spacy.io/usage/v2-1\n",
    "https://spacy.io/universe/project/neuralcoref\n",
    "https://spacy.io/universe/project/NeuroNER\n",
    "https://spacy.io/universe/project/spacy-transformers\n",
    "https://rasa.com/\n",
    "\n",
    "\n",
    "https://github.com/doccano/doccano\n",
    "https://www.wikidata.org/wiki/Q53747 \n"
   ]
  },
  {
   "cell_type": "code",
   "execution_count": null,
   "metadata": {},
   "outputs": [],
   "source": [
    "https://spacy.io/universe/project/sense2vec"
   ]
  }
 ]
}